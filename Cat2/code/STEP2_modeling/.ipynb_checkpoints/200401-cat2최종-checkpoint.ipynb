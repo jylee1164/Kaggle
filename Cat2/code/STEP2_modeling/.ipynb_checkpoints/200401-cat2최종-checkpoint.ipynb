{
 "cells": [
  {
   "cell_type": "code",
   "execution_count": 1,
   "metadata": {},
   "outputs": [],
   "source": [
    "import numpy as np\n",
    "import pandas as pd\n",
    "import seaborn as sns\n",
    "import matplotlib as mpl\n",
    "import matplotlib.pyplot as plt\n",
    "import matplotlib.patches as mpatches\n",
    "\n",
    "import os\n",
    "import pickle as pkl\n",
    "import glob\n",
    "import itertools\n",
    "\n",
    "#from sklearn import preprocessing\n",
    "from sklearn.preprocessing import LabelEncoder, OneHotEncoder, OrdinalEncoder, FunctionTransformer\n",
    "import category_encoders as ce\n",
    "\n",
    "#import da_func\n",
    "#import data_preprocessing\n",
    "\n",
    "%load_ext autoreload\n",
    "%autoreload 2"
   ]
  },
  {
   "cell_type": "code",
   "execution_count": 4,
   "metadata": {},
   "outputs": [],
   "source": [
    "루트경로 = '../../'\n",
    "\n",
    "데이터경로 = 루트경로 + 'data/'"
   ]
  },
  {
   "cell_type": "code",
   "execution_count": 5,
   "metadata": {},
   "outputs": [],
   "source": [
    "train_df = pd.read_csv(데이터경로 + 'org/train.csv')\n",
    "test_df = pd.read_csv(데이터경로 + 'org/test.csv')"
   ]
  },
  {
   "cell_type": "code",
   "execution_count": 7,
   "metadata": {},
   "outputs": [
    {
     "data": {
      "text/plain": [
       "['../../data/encoded/binn99_nlohe_nh16_olle_ohle_tmce',\n",
       " '../../data/encoded/bin0_nlohe_nh16_olle_ohle_tmle',\n",
       " '../../data/encoded/binn99_nlohe_nh16_olle_ohloo_tmle',\n",
       " '../../data/encoded/bin0_nlohe_nhloo_olle_ohle_tmce',\n",
       " '../../data/encoded/binn99_nlohe_nhloo_olle_ohloo_tmce',\n",
       " '../../data/encoded/bin0_nlohe_nhloo_olle_ohloo_tmle',\n",
       " '../../data/encoded/binn99_nlohe_nhloo_olle_ohle_tmle',\n",
       " '../../data/encoded/bin0_nlohe_nh16_olle_ohloo_tmce',\n",
       " '../../data/encoded/binn99_nlloo_nh16_olle_ohloo_tmce',\n",
       " '../../data/encoded/bin0_nlloo_nhloo_olle_ohle_tmle',\n",
       " '../../data/encoded/bin0_nlloo_nhloo_olle_ohloo_tmle',\n",
       " '../../data/encoded/binn99_nlloo_nhloo_olle_ohloo_tmce',\n",
       " '../../data/encoded/binn99_nlloo_nh16_olle_ohle_tmce',\n",
       " '../../data/encoded/bin0_nlloo_nh16_olle_ohle_tmle',\n",
       " '../../data/encoded/binn99_nlloo_nhloo_olle_ohle_tmce',\n",
       " '../../data/encoded/bin0_nlloo_nh16_olle_ohloo_tmle',\n",
       " '../../data/encoded/bin0_nlohe_nhloo_olle_ohle_tmle',\n",
       " '../../data/encoded/binn99_nlohe_nh16_olle_ohle_tmle',\n",
       " '../../data/encoded/bin0_nlohe_nh16_olle_ohle_tmce',\n",
       " '../../data/encoded/binn99_nlohe_nh16_olle_ohloo_tmce',\n",
       " '../../data/encoded/binn99_nlohe_nhloo_olle_ohloo_tmle',\n",
       " '../../data/encoded/bin0_nlohe_nhloo_olle_ohloo_tmce',\n",
       " '../../data/encoded/bin0_nlohe_nh16_olle_ohloo_tmle',\n",
       " '../../data/encoded/binn99_nlohe_nhloo_olle_ohle_tmce',\n",
       " '../../data/encoded/bin0_nlloo_nhloo_olle_ohle_tmce',\n",
       " '../../data/encoded/bin0_nlloo_nhloo_olle_ohloo_tmce',\n",
       " '../../data/encoded/binn99_nlloo_nhloo_olle_ohloo_tmle',\n",
       " '../../data/encoded/binn99_nlloo_nh16_olle_ohloo_tmle',\n",
       " '../../data/encoded/binn99_nlloo_nh16_olle_ohle_tmle',\n",
       " '../../data/encoded/bin0_nlloo_nh16_olle_ohle_tmce',\n",
       " '../../data/encoded/bin0_nlloo_nh16_olle_ohloo_tmce',\n",
       " '../../data/encoded/binn99_nlloo_nhloo_olle_ohle_tmle']"
      ]
     },
     "execution_count": 7,
     "metadata": {},
     "output_type": "execute_result"
    }
   ],
   "source": [
    "glob.glob(데이터경로 + 'encoded/*')"
   ]
  },
  {
   "cell_type": "code",
   "execution_count": null,
   "metadata": {},
   "outputs": [],
   "source": []
  }
 ],
 "metadata": {
  "kernelspec": {
   "display_name": "Python 3",
   "language": "python",
   "name": "python3"
  },
  "language_info": {
   "codemirror_mode": {
    "name": "ipython",
    "version": 3
   },
   "file_extension": ".py",
   "mimetype": "text/x-python",
   "name": "python",
   "nbconvert_exporter": "python",
   "pygments_lexer": "ipython3",
   "version": "3.7.6"
  }
 },
 "nbformat": 4,
 "nbformat_minor": 4
}
