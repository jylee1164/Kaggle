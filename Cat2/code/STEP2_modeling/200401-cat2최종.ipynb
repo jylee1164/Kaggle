{
 "cells": [
  {
   "cell_type": "code",
   "execution_count": 33,
   "metadata": {},
   "outputs": [
    {
     "name": "stdout",
     "output_type": "stream",
     "text": [
      "The autoreload extension is already loaded. To reload it, use:\n",
      "  %reload_ext autoreload\n"
     ]
    }
   ],
   "source": [
    "import numpy as np\n",
    "import pandas as pd\n",
    "import seaborn as sns\n",
    "import matplotlib as mpl\n",
    "import matplotlib.pyplot as plt\n",
    "import matplotlib.patches as mpatches\n",
    "\n",
    "import os\n",
    "import pickle as pkl\n",
    "import glob\n",
    "import itertools\n",
    "import xgboost as xgb\n",
    "\n",
    "#from sklearn import preprocessing\n",
    "from sklearn.preprocessing import LabelEncoder, OneHotEncoder, OrdinalEncoder, FunctionTransformer\n",
    "import category_encoders as ce\n",
    "from sklearn.model_selection import train_test_split\n",
    "\n",
    "#import da_func\n",
    "#import data_preprocessing\n",
    "\n",
    "%load_ext autoreload\n",
    "%autoreload 2"
   ]
  },
  {
   "cell_type": "code",
   "execution_count": 4,
   "metadata": {},
   "outputs": [],
   "source": [
    "루트경로 = '../../'\n",
    "\n",
    "데이터경로 = 루트경로 + 'data/'"
   ]
  },
  {
   "cell_type": "code",
   "execution_count": 50,
   "metadata": {},
   "outputs": [
    {
     "data": {
      "text/plain": [
       "['../../data/encoded/binn99_nlohe_nh16_olle_ohle_tmce',\n",
       " '../../data/encoded/bin0_nlohe_nh16_olle_ohle_tmle',\n",
       " '../../data/encoded/binn99_nlohe_nh16_olle_ohloo_tmle',\n",
       " '../../data/encoded/bin0_nlohe_nhloo_olle_ohle_tmce',\n",
       " '../../data/encoded/binn99_nlohe_nhloo_olle_ohloo_tmce',\n",
       " '../../data/encoded/bin0_nlohe_nhloo_olle_ohloo_tmle',\n",
       " '../../data/encoded/binn99_nlohe_nhloo_olle_ohle_tmle',\n",
       " '../../data/encoded/bin0_nlohe_nh16_olle_ohloo_tmce',\n",
       " '../../data/encoded/binn99_nlloo_nh16_olle_ohloo_tmce',\n",
       " '../../data/encoded/bin0_nlloo_nhloo_olle_ohle_tmle',\n",
       " '../../data/encoded/bin0_nlloo_nhloo_olle_ohloo_tmle',\n",
       " '../../data/encoded/binn99_nlloo_nhloo_olle_ohloo_tmce',\n",
       " '../../data/encoded/binn99_nlloo_nh16_olle_ohle_tmce',\n",
       " '../../data/encoded/bin0_nlloo_nh16_olle_ohle_tmle',\n",
       " '../../data/encoded/binn99_nlloo_nhloo_olle_ohle_tmce',\n",
       " '../../data/encoded/bin0_nlloo_nh16_olle_ohloo_tmle',\n",
       " '../../data/encoded/bin0_nlohe_nhloo_olle_ohle_tmle',\n",
       " '../../data/encoded/binn99_nlohe_nh16_olle_ohle_tmle',\n",
       " '../../data/encoded/bin0_nlohe_nh16_olle_ohle_tmce',\n",
       " '../../data/encoded/binn99_nlohe_nh16_olle_ohloo_tmce',\n",
       " '../../data/encoded/binn99_nlohe_nhloo_olle_ohloo_tmle',\n",
       " '../../data/encoded/bin0_nlohe_nhloo_olle_ohloo_tmce',\n",
       " '../../data/encoded/bin0_nlohe_nh16_olle_ohloo_tmle',\n",
       " '../../data/encoded/binn99_nlohe_nhloo_olle_ohle_tmce',\n",
       " '../../data/encoded/bin0_nlloo_nhloo_olle_ohle_tmce',\n",
       " '../../data/encoded/bin0_nlloo_nhloo_olle_ohloo_tmce',\n",
       " '../../data/encoded/binn99_nlloo_nhloo_olle_ohloo_tmle',\n",
       " '../../data/encoded/binn99_nlloo_nh16_olle_ohloo_tmle',\n",
       " '../../data/encoded/binn99_nlloo_nh16_olle_ohle_tmle',\n",
       " '../../data/encoded/bin0_nlloo_nh16_olle_ohle_tmce',\n",
       " '../../data/encoded/bin0_nlloo_nh16_olle_ohloo_tmce',\n",
       " '../../data/encoded/binn99_nlloo_nhloo_olle_ohle_tmle']"
      ]
     },
     "execution_count": 50,
     "metadata": {},
     "output_type": "execute_result"
    }
   ],
   "source": [
    "glob.glob(데이터경로 + 'encoded/*')"
   ]
  },
  {
   "cell_type": "code",
   "execution_count": 88,
   "metadata": {},
   "outputs": [],
   "source": [
    "# bin0_nlloo_nhloo_olle_ohle_tmle\n",
    "# bin0_nlohe_nh16_olle_ohle_tmce\n",
    "# bin0_nlohe_nh16_olle_ohle_tmle\n",
    "# bin0_nlloo_nh16_olle_ohle_tmce\n",
    "train_df = pd.read_csv(데이터경로 + 'encoded/bin0_nlloo_nh16_olle_ohle_tmce/' + 'train.csv')\n",
    "test_df = pd.read_csv(데이터경로 + 'encoded/bin0_nlloo_nh16_olle_ohle_tmce/' + 'test.csv')"
   ]
  },
  {
   "cell_type": "code",
   "execution_count": 89,
   "metadata": {},
   "outputs": [],
   "source": [
    "X_train, X_val, y_train, y_val = train_test_split(\n",
    "    train_df.iloc[:, 2:].values, train_df['target'].values,\n",
    "    test_size=0.2,\n",
    "    random_state=42\n",
    ")"
   ]
  },
  {
   "cell_type": "code",
   "execution_count": 90,
   "metadata": {},
   "outputs": [
    {
     "data": {
      "text/plain": [
       "array([0, 0, 0, ..., 0, 1, 0])"
      ]
     },
     "execution_count": 90,
     "metadata": {},
     "output_type": "execute_result"
    }
   ],
   "source": [
    "y_val"
   ]
  },
  {
   "cell_type": "code",
   "execution_count": 95,
   "metadata": {},
   "outputs": [],
   "source": [
    "xgb_model = xgb.XGBClassifier(\n",
    "    max_depth=3,\n",
    "    learning_rate=1e-6,\n",
    "    n_estimators=500,\n",
    "    colsample_bytree=0.6,\n",
    "    reg_alpha=0.5,\n",
    "    reg_lambda=0.5,\n",
    "    random_state=42,\n",
    "    seed=42\n",
    ")"
   ]
  },
  {
   "cell_type": "code",
   "execution_count": 96,
   "metadata": {},
   "outputs": [
    {
     "name": "stdout",
     "output_type": "stream",
     "text": [
      "[0]\tvalidation_0-auc:0.950905\n",
      "Will train until validation_0-auc hasn't improved in 30 rounds.\n",
      "[1]\tvalidation_0-auc:0.956964\n",
      "[2]\tvalidation_0-auc:0.9948\n",
      "[3]\tvalidation_0-auc:0.992971\n",
      "[4]\tvalidation_0-auc:0.993774\n",
      "[5]\tvalidation_0-auc:0.994922\n",
      "[6]\tvalidation_0-auc:0.994922\n",
      "[7]\tvalidation_0-auc:0.997243\n",
      "[8]\tvalidation_0-auc:0.997077\n",
      "[9]\tvalidation_0-auc:0.999864\n",
      "[10]\tvalidation_0-auc:0.999663\n",
      "[11]\tvalidation_0-auc:0.999687\n",
      "[12]\tvalidation_0-auc:0.999696\n",
      "[13]\tvalidation_0-auc:0.999765\n",
      "[14]\tvalidation_0-auc:0.999622\n",
      "[15]\tvalidation_0-auc:0.999567\n",
      "[16]\tvalidation_0-auc:0.999813\n",
      "[17]\tvalidation_0-auc:0.999891\n",
      "[18]\tvalidation_0-auc:0.999899\n",
      "[19]\tvalidation_0-auc:0.999897\n",
      "[20]\tvalidation_0-auc:0.999899\n",
      "[21]\tvalidation_0-auc:0.999897\n",
      "[22]\tvalidation_0-auc:0.999893\n",
      "[23]\tvalidation_0-auc:0.999937\n",
      "[24]\tvalidation_0-auc:0.999942\n",
      "[25]\tvalidation_0-auc:0.999938\n",
      "[26]\tvalidation_0-auc:0.999939\n",
      "[27]\tvalidation_0-auc:0.999936\n",
      "[28]\tvalidation_0-auc:0.999938\n",
      "[29]\tvalidation_0-auc:0.9999\n",
      "[30]\tvalidation_0-auc:0.999897\n",
      "[31]\tvalidation_0-auc:0.999899\n",
      "[32]\tvalidation_0-auc:0.999939\n",
      "[33]\tvalidation_0-auc:0.999939\n",
      "[34]\tvalidation_0-auc:0.999939\n",
      "[35]\tvalidation_0-auc:0.99994\n",
      "[36]\tvalidation_0-auc:0.999944\n",
      "[37]\tvalidation_0-auc:0.999942\n",
      "[38]\tvalidation_0-auc:0.999941\n",
      "[39]\tvalidation_0-auc:0.999931\n",
      "[40]\tvalidation_0-auc:0.99993\n",
      "[41]\tvalidation_0-auc:0.999931\n",
      "[42]\tvalidation_0-auc:0.999929\n",
      "[43]\tvalidation_0-auc:0.999931\n",
      "[44]\tvalidation_0-auc:0.999931\n",
      "[45]\tvalidation_0-auc:0.999931\n",
      "[46]\tvalidation_0-auc:0.999931\n",
      "[47]\tvalidation_0-auc:0.999941\n",
      "[48]\tvalidation_0-auc:0.999942\n",
      "[49]\tvalidation_0-auc:0.999944\n",
      "[50]\tvalidation_0-auc:0.999941\n",
      "[51]\tvalidation_0-auc:0.999942\n",
      "[52]\tvalidation_0-auc:0.999941\n",
      "[53]\tvalidation_0-auc:0.999937\n",
      "[54]\tvalidation_0-auc:0.999938\n",
      "[55]\tvalidation_0-auc:0.999939\n",
      "[56]\tvalidation_0-auc:0.999937\n",
      "[57]\tvalidation_0-auc:0.999936\n",
      "[58]\tvalidation_0-auc:0.999938\n",
      "[59]\tvalidation_0-auc:0.999939\n",
      "[60]\tvalidation_0-auc:0.999938\n",
      "[61]\tvalidation_0-auc:0.99994\n",
      "[62]\tvalidation_0-auc:0.999937\n",
      "[63]\tvalidation_0-auc:0.999937\n",
      "[64]\tvalidation_0-auc:0.999938\n",
      "[65]\tvalidation_0-auc:0.999937\n",
      "[66]\tvalidation_0-auc:0.999937\n",
      "Stopping. Best iteration:\n",
      "[36]\tvalidation_0-auc:0.999944\n",
      "\n"
     ]
    },
    {
     "data": {
      "text/plain": [
       "XGBClassifier(base_score=0.5, booster='gbtree', colsample_bylevel=1,\n",
       "              colsample_bynode=1, colsample_bytree=0.6, gamma=0,\n",
       "              learning_rate=1e-06, max_delta_step=0, max_depth=3,\n",
       "              min_child_weight=1, missing=None, n_estimators=500, n_jobs=1,\n",
       "              nthread=None, objective='binary:logistic', random_state=42,\n",
       "              reg_alpha=0.5, reg_lambda=0.5, scale_pos_weight=1, seed=42,\n",
       "              silent=None, subsample=1, verbosity=1)"
      ]
     },
     "execution_count": 96,
     "metadata": {},
     "output_type": "execute_result"
    }
   ],
   "source": [
    "xgb_model.fit(\n",
    "    X=X_train,\n",
    "    y=y_train,\n",
    "    eval_set=[(X_val, y_val)],\n",
    "    eval_metric='auc',\n",
    "    early_stopping_rounds=30,\n",
    "    #verbose=True,\n",
    ")"
   ]
  },
  {
   "cell_type": "code",
   "execution_count": 97,
   "metadata": {},
   "outputs": [],
   "source": [
    "X_test = test_df.iloc[:, 1:].values\n",
    "#y_test = test_df['targe']\n",
    "ID_test = test_df[['id']]"
   ]
  },
  {
   "cell_type": "code",
   "execution_count": 98,
   "metadata": {},
   "outputs": [
    {
     "data": {
      "text/plain": [
       "array([[0.5000178 , 0.49998218],\n",
       "       [0.5000175 , 0.49998248],\n",
       "       [0.500017  , 0.499983  ],\n",
       "       ...,\n",
       "       [0.50001764, 0.49998236],\n",
       "       [0.50001746, 0.49998254],\n",
       "       [0.5000169 , 0.49998307]], dtype=float32)"
      ]
     },
     "execution_count": 98,
     "metadata": {},
     "output_type": "execute_result"
    }
   ],
   "source": [
    "xgb_model.predict_proba(X_test)"
   ]
  },
  {
   "cell_type": "code",
   "execution_count": 99,
   "metadata": {},
   "outputs": [
    {
     "data": {
      "text/plain": [
       "(array([0]), array([400000]))"
      ]
     },
     "execution_count": 99,
     "metadata": {},
     "output_type": "execute_result"
    }
   ],
   "source": [
    "np.unique(xgb_model.predict(X_test), return_counts=True)"
   ]
  },
  {
   "cell_type": "code",
   "execution_count": 79,
   "metadata": {},
   "outputs": [
    {
     "data": {
      "text/plain": [
       "(array([0]), array([120000]))"
      ]
     },
     "execution_count": 79,
     "metadata": {},
     "output_type": "execute_result"
    }
   ],
   "source": [
    "np.unique(xgb_model.predict(X_val), return_counts=True)"
   ]
  },
  {
   "cell_type": "code",
   "execution_count": 63,
   "metadata": {},
   "outputs": [
    {
     "name": "stderr",
     "output_type": "stream",
     "text": [
      "/Users/a60058221/anaconda3/lib/python3.7/site-packages/ipykernel_launcher.py:1: SettingWithCopyWarning: \n",
      "A value is trying to be set on a copy of a slice from a DataFrame.\n",
      "Try using .loc[row_indexer,col_indexer] = value instead\n",
      "\n",
      "See the caveats in the documentation: https://pandas.pydata.org/pandas-docs/stable/user_guide/indexing.html#returning-a-view-versus-a-copy\n",
      "  \"\"\"Entry point for launching an IPython kernel.\n"
     ]
    }
   ],
   "source": [
    "ID_test['target'] = xgb_model.predict_proba(X_test)[:, 1]"
   ]
  },
  {
   "cell_type": "code",
   "execution_count": 64,
   "metadata": {},
   "outputs": [
    {
     "data": {
      "text/html": [
       "<div>\n",
       "<style scoped>\n",
       "    .dataframe tbody tr th:only-of-type {\n",
       "        vertical-align: middle;\n",
       "    }\n",
       "\n",
       "    .dataframe tbody tr th {\n",
       "        vertical-align: top;\n",
       "    }\n",
       "\n",
       "    .dataframe thead th {\n",
       "        text-align: right;\n",
       "    }\n",
       "</style>\n",
       "<table border=\"1\" class=\"dataframe\">\n",
       "  <thead>\n",
       "    <tr style=\"text-align: right;\">\n",
       "      <th></th>\n",
       "      <th>id</th>\n",
       "      <th>target</th>\n",
       "    </tr>\n",
       "  </thead>\n",
       "  <tbody>\n",
       "    <tr>\n",
       "      <th>0</th>\n",
       "      <td>600000</td>\n",
       "      <td>0.499961</td>\n",
       "    </tr>\n",
       "    <tr>\n",
       "      <th>1</th>\n",
       "      <td>600001</td>\n",
       "      <td>0.499962</td>\n",
       "    </tr>\n",
       "    <tr>\n",
       "      <th>2</th>\n",
       "      <td>600002</td>\n",
       "      <td>0.499964</td>\n",
       "    </tr>\n",
       "    <tr>\n",
       "      <th>3</th>\n",
       "      <td>600003</td>\n",
       "      <td>0.499962</td>\n",
       "    </tr>\n",
       "    <tr>\n",
       "      <th>4</th>\n",
       "      <td>600004</td>\n",
       "      <td>0.499962</td>\n",
       "    </tr>\n",
       "  </tbody>\n",
       "</table>\n",
       "</div>"
      ],
      "text/plain": [
       "       id    target\n",
       "0  600000  0.499961\n",
       "1  600001  0.499962\n",
       "2  600002  0.499964\n",
       "3  600003  0.499962\n",
       "4  600004  0.499962"
      ]
     },
     "execution_count": 64,
     "metadata": {},
     "output_type": "execute_result"
    }
   ],
   "source": [
    "ID_test.head()"
   ]
  },
  {
   "cell_type": "code",
   "execution_count": 66,
   "metadata": {},
   "outputs": [],
   "source": [
    "ID_test.to_csv(데이터경로 + \"org/submission.csv\", index=None)"
   ]
  },
  {
   "cell_type": "code",
   "execution_count": null,
   "metadata": {},
   "outputs": [],
   "source": []
  }
 ],
 "metadata": {
  "kernelspec": {
   "display_name": "Python 3",
   "language": "python",
   "name": "python3"
  },
  "language_info": {
   "codemirror_mode": {
    "name": "ipython",
    "version": 3
   },
   "file_extension": ".py",
   "mimetype": "text/x-python",
   "name": "python",
   "nbconvert_exporter": "python",
   "pygments_lexer": "ipython3",
   "version": "3.7.6"
  }
 },
 "nbformat": 4,
 "nbformat_minor": 4
}
